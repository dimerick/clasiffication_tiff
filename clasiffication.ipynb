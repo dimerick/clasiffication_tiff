{
 "cells": [
  {
   "cell_type": "code",
   "execution_count": 23,
   "metadata": {},
   "outputs": [
    {
     "name": "stdout",
     "output_type": "stream",
     "text": [
      "Dataset driver is: ESRI Shapefile\n",
      "\n",
      "The shapefile has 1 layer(s)\n",
      "\n",
      "The layer is named: roi_upper_c\n",
      "\n",
      "The layer's geometry is: Polygon\n",
      "\n",
      "Layer projection is: +proj=longlat +datum=WGS84 +no_defs \n",
      "\n",
      "Layer has 20 features\n",
      "\n",
      "Layer has 2 fields\n",
      "Their names are: \n",
      "\tid - Integer64\n",
      "\tname - String\n"
     ]
    }
   ],
   "source": [
    "# Import Python 3 print function\n",
    "from __future__ import print_function\n",
    "\n",
    "# Import OGR - \n",
    "from osgeo import ogr\n",
    "\n",
    "\n",
    "# Open the dataset from the file\n",
    "dataset = ogr.Open('roi_upper_c.shp')\n",
    "# Make sure the dataset exists -- it would be None if we couldn't open it\n",
    "if not dataset:\n",
    "    print('Error: could not open dataset')\n",
    "\n",
    "### Let's get the driver from this file\n",
    "driver = dataset.GetDriver()\n",
    "print('Dataset driver is: {n}\\n'.format(n=driver.name))\n",
    "\n",
    "### How many layers are contained in this Shapefile?\n",
    "layer_count = dataset.GetLayerCount()\n",
    "print('The shapefile has {n} layer(s)\\n'.format(n=layer_count))\n",
    "\n",
    "### What is the name of the 1 layer?\n",
    "layer = dataset.GetLayerByIndex(0)\n",
    "print('The layer is named: {n}\\n'.format(n=layer.GetName()))\n",
    "\n",
    "### What is the layer's geometry? is it a point? a polyline? a polygon?\n",
    "# First read in the geometry - but this is the enumerated type's value\n",
    "geometry = layer.GetGeomType()\n",
    "\n",
    "# So we need to translate it to the name of the enum\n",
    "geometry_name = ogr.GeometryTypeToName(geometry)\n",
    "print(\"The layer's geometry is: {geom}\\n\".format(geom=geometry_name))\n",
    "\n",
    "### What is the layer's projection?\n",
    "# Get the spatial reference\n",
    "spatial_ref = layer.GetSpatialRef()\n",
    "\n",
    "# Export this spatial reference to something we can read... like the Proj4\n",
    "proj4 = spatial_ref.ExportToProj4()\n",
    "print('Layer projection is: {proj4}\\n'.format(proj4=proj4))\n",
    "\n",
    "### How many features are in the layer?\n",
    "feature_count = layer.GetFeatureCount()\n",
    "print('Layer has {n} features\\n'.format(n=feature_count))\n",
    "\n",
    "### How many fields are in the shapefile, and what are their names?\n",
    "# First we need to capture the layer definition\n",
    "defn = layer.GetLayerDefn()\n",
    "\n",
    "# How many fields\n",
    "field_count = defn.GetFieldCount()\n",
    "print('Layer has {n} fields'.format(n=field_count))\n",
    "\n",
    "# What are their names?\n",
    "print('Their names are: ')\n",
    "for i in range(field_count):\n",
    "    field_defn = defn.GetFieldDefn(i)\n",
    "    print('\\t{name} - {datatype}'.format(name=field_defn.GetName(),\n",
    "                                         datatype=field_defn.GetTypeName()))"
   ]
  },
  {
   "cell_type": "code",
   "execution_count": 24,
   "metadata": {},
   "outputs": [
    {
     "name": "stdout",
     "output_type": "stream",
     "text": [
      "446\n",
      "388\n",
      "Success\n"
     ]
    }
   ],
   "source": [
    "# Import GDAL\n",
    "from osgeo import gdal\n",
    "\n",
    "# First we will open our raster image, to understand how we will want to rasterize our vector\n",
    "raster_ds = gdal.Open('upper-0043_nodata.tif', gdal.GA_ReadOnly)\n",
    "\n",
    "# Fetch number of rows and columns\n",
    "ncol = raster_ds.RasterXSize\n",
    "nrow = raster_ds.RasterYSize\n",
    "\n",
    "print(ncol)\n",
    "print(nrow)\n",
    "\n",
    "# Fetch projection and extent\n",
    "proj = raster_ds.GetProjectionRef()\n",
    "ext = raster_ds.GetGeoTransform()\n",
    "\n",
    "raster_ds = None\n",
    "\n",
    "# Create the raster dataset\n",
    "memory_driver = gdal.GetDriverByName('GTiff')\n",
    "out_raster_ds = memory_driver.Create('training_data.gtif', ncol, nrow, 1, gdal.GDT_Byte)\n",
    "\n",
    "# Set the ROI image's projection and extent to our input raster's projection and extent\n",
    "out_raster_ds.SetProjection(proj)\n",
    "out_raster_ds.SetGeoTransform(ext)\n",
    "\n",
    "# Fill our output band with the 0 blank, no class label, value\n",
    "b = out_raster_ds.GetRasterBand(1)\n",
    "b.Fill(0)\n",
    "\n",
    "# Rasterize the shapefile layer to our new dataset\n",
    "status = gdal.RasterizeLayer(out_raster_ds,  # output to our new dataset\n",
    "                             [1],  # output to our new dataset's first band\n",
    "                             layer,  # rasterize this layer\n",
    "                             None, None,  # don't worry about transformations since we're in same projection\n",
    "                             [0],  # burn value 0\n",
    "                             ['ALL_TOUCHED=TRUE',  # rasterize all pixels touched by polygons\n",
    "                              'ATTRIBUTE=id']  # put raster values according to the 'id' field values\n",
    "                             )\n",
    "\n",
    "# Close dataset\n",
    "out_raster_ds = None\n",
    "\n",
    "if status != 0:\n",
    "    print(\"I don't think it worked...\")\n",
    "else:\n",
    "    print(\"Success\")"
   ]
  },
  {
   "cell_type": "code",
   "execution_count": 25,
   "metadata": {},
   "outputs": [
    {
     "name": "stdout",
     "output_type": "stream",
     "text": [
      "Class 0 contains 170882 pixels\n",
      "Class 1 contains 1655 pixels\n",
      "Class 2 contains 226 pixels\n",
      "Class 3 contains 285 pixels\n"
     ]
    }
   ],
   "source": [
    "# Import NumPy for some statistics\n",
    "import numpy as np\n",
    "\n",
    "roi_ds = gdal.Open('training_data.gtif', gdal.GA_ReadOnly)\n",
    "\n",
    "roi = roi_ds.GetRasterBand(1).ReadAsArray()\n",
    "\n",
    "# How many pixels are in each class?\n",
    "classes = np.unique(roi)\n",
    "# Iterate over all class labels in the ROI image, printing out some information\n",
    "for c in classes:\n",
    "    print('Class {c} contains {n} pixels'.format(c=c,\n",
    "                                                 n=(roi == c).sum()))"
   ]
  },
  {
   "cell_type": "code",
   "execution_count": 26,
   "metadata": {},
   "outputs": [
    {
     "name": "stdout",
     "output_type": "stream",
     "text": [
      "(388, 446, 4)\n"
     ]
    },
    {
     "data": {
      "image/png": "[encoded data removed]",
      "text/plain": [
       "<Figure size 432x288 with 2 Axes>"
      ]
     },
     "metadata": {
      "needs_background": "light"
     },
     "output_type": "display_data"
    }
   ],
   "source": [
    "# Import Python 3's print function and division\n",
    "from __future__ import print_function, division\n",
    "\n",
    "# Import GDAL, NumPy, and matplotlib\n",
    "from osgeo import gdal, gdal_array\n",
    "import numpy as np\n",
    "import matplotlib.pyplot as plt\n",
    "%matplotlib inline\n",
    "\n",
    "\n",
    "# Tell GDAL to throw Python exceptions, and register all drivers\n",
    "gdal.UseExceptions()\n",
    "gdal.AllRegister()\n",
    "\n",
    "# Read in our image and ROI image\n",
    "img_ds = gdal.Open('upper-0043_nodata.tif', gdal.GA_ReadOnly)\n",
    "roi_ds = gdal.Open('training_data.gtif', gdal.GA_ReadOnly)\n",
    "\n",
    "img = np.zeros((img_ds.RasterYSize, img_ds.RasterXSize, img_ds.RasterCount),\n",
    "               gdal_array.GDALTypeCodeToNumericTypeCode(img_ds.GetRasterBand(1).DataType))\n",
    "for b in range(img.shape[2]):\n",
    "    img[:, :, b] = img_ds.GetRasterBand(b + 1).ReadAsArray()\n",
    "    \n",
    "roi = roi_ds.GetRasterBand(1).ReadAsArray().astype(np.uint8)\n",
    "\n",
    "print(img.shape)\n",
    "\n",
    "# Display them\n",
    "plt.subplot(121)\n",
    "plt.imshow(img[:, :, 3], cmap=plt.cm.Greys_r)\n",
    "plt.title('SWIR1')\n",
    "\n",
    "plt.subplot(122)\n",
    "plt.imshow(roi, cmap=plt.cm.Spectral)\n",
    "plt.title('ROI Training Data')\n",
    "                                                                                                \n",
    "plt.show()"
   ]
  },
  {
   "cell_type": "code",
   "execution_count": 27,
   "metadata": {},
   "outputs": [
    {
     "name": "stdout",
     "output_type": "stream",
     "text": [
      "We have 2166 samples\n",
      "The training data include 3 classes: [1 2 3]\n",
      "Our X matrix is sized: (2166, 4)\n",
      "Our y array is sized: (2166,)\n"
     ]
    }
   ],
   "source": [
    "# Find how many non-zero entries we have -- i.e. how many training data samples?\n",
    "n_samples = (roi > 0).sum()\n",
    "print('We have {n} samples'.format(n=n_samples))\n",
    "\n",
    "# What are our classification labels?\n",
    "labels = np.unique(roi[roi > 0])\n",
    "print('The training data include {n} classes: {classes}'.format(n=labels.size, \n",
    "                                                                classes=labels))\n",
    "# We will need a \"X\" matrix containing our features, and a \"y\" array containing our labels\n",
    "#     These will have n_samples rows\n",
    "#     In other languages we would need to allocate these and them loop to fill them, but NumPy can be faster\n",
    "\n",
    "X = img[roi > 0, :]  # include 8th band, which is Fmask, for now\n",
    "y = roi[roi > 0]\n",
    "\n",
    "print('Our X matrix is sized: {sz}'.format(sz=X.shape))\n",
    "print('Our y array is sized: {sz}'.format(sz=y.shape))\n"
   ]
  },
  {
   "cell_type": "code",
   "execution_count": 28,
   "metadata": {},
   "outputs": [],
   "source": [
    "from sklearn.ensemble import RandomForestClassifier\n",
    "\n",
    "# Initialize our model with 500 trees\n",
    "rf = RandomForestClassifier(n_estimators=500, oob_score=True)\n",
    "\n",
    "# Fit our model to training data\n",
    "rf = rf.fit(X, y)"
   ]
  },
  {
   "cell_type": "code",
   "execution_count": 29,
   "metadata": {},
   "outputs": [
    {
     "name": "stdout",
     "output_type": "stream",
     "text": [
      "Band 1 importance: 0.19816694722659087\n",
      "Band 2 importance: 0.20616988450940174\n",
      "Band 3 importance: 0.20875157104365627\n",
      "Band 4 importance: 0.3869115972203513\n"
     ]
    }
   ],
   "source": [
    "bands = [1, 2, 3, 4]\n",
    "\n",
    "for b, imp in zip(bands, rf.feature_importances_):\n",
    "    print('Band {b} importance: {imp}'.format(b=b, imp=imp))"
   ]
  },
  {
   "cell_type": "code",
   "execution_count": 30,
   "metadata": {},
   "outputs": [
    {
     "name": "stdout",
     "output_type": "stream",
     "text": [
      "(173048, 4)\n",
      "Reshaped from (388, 446, 4) to (173048, 4)\n",
      "Finished\n"
     ]
    }
   ],
   "source": [
    "# Take our full image, ignore the Fmask band, and reshape into long 2d array (nrow * ncol, nband) for classification\n",
    "new_shape = (img.shape[0] * img.shape[1], img.shape[2])\n",
    "print(new_shape)\n",
    "img_as_array = img[:, :, :4].reshape(new_shape)\n",
    "print('Reshaped from {o} to {n}'.format(o=img.shape, n=img_as_array.shape))\n",
    "\n",
    "# Now predict for each pixel\n",
    "class_prediction = rf.predict(img_as_array)\n",
    "\n",
    "# Reshape our classification map\n",
    "class_prediction = class_prediction.reshape(img[:, :, 0].shape)\n",
    "\n",
    "print('Finished')"
   ]
  },
  {
   "cell_type": "code",
   "execution_count": 33,
   "metadata": {},
   "outputs": [
    {
     "name": "stdout",
     "output_type": "stream",
     "text": [
      "(388, 446)\n",
      "width: 446\n",
      "height: 388\n",
      "shape final img has (388, 446, 3) \n",
      "\n",
      "pixel 1 [0 0 0] features\n",
      "\n",
      "type pixel 1 <class 'numpy.ndarray'> features\n",
      "\n"
     ]
    },
    {
     "data": {
      "image/png": "[encoded data removed]",
      "text/plain": [
       "<Figure size 432x288 with 1 Axes>"
      ]
     },
     "metadata": {
      "needs_background": "light"
     },
     "output_type": "display_data"
    }
   ],
   "source": [
    "#plt.imshow(class_prediction)\n",
    "#print(class_prediction.shape)\n",
    "#plt.imshow(class_prediction[class_prediction == 6])\n",
    "#plt.imshow(class_prediction, interpolation='lanczos')\n",
    "#plt.show()\n",
    "print(class_prediction.shape)\n",
    "width = class_prediction.shape[1]\n",
    "height = class_prediction.shape[0]\n",
    "print(\"width:\", width)\n",
    "print(\"height:\", height)\n",
    "final_img = np.zeros([height, width, 3], dtype=np.uint8)\n",
    "print('shape final img has {n} \\n'.format(n=final_img.shape))\n",
    "print('pixel 1 {n} features\\n'.format(n=final_img[0][0]))\n",
    "print('type pixel 1 {n} features\\n'.format(n=type(final_img[0][0])))\n",
    "\n",
    "#colors = {0: np.array([0,0,0]), 1: np.array([0,150,0]), 2: np.array([0,0,255]), 3: np.array([0,255,0]), \n",
    "#         4: np.array([160,82,45]), 5: np.array([255,0,0])}\n",
    "colors = {0: np.array([255,255,255]), 1: np.array([0,153,51]), 2: np.array([255,255,153]), 3: np.array([255,0,0]), \n",
    "         4: np.array([255,255,255])}\n",
    "\n",
    "for i in range(0, height):\n",
    "    for j in range(0, width):\n",
    "        final_img[i][j] = colors[class_prediction[i][j]]\n",
    "plt.imshow(final_img)\n",
    "plt.show()\n",
    "#print(type(colors[1]))\n",
    "#(1, (0, 150, 0, 255)),  # Forest\n",
    "#(2, (0, 0, 255, 255)),  # Water\n",
    "#(3, (0, 255, 0, 255)),  # Herbaceous\n",
    "#(4, (160, 82, 45, 255)),  # Barren\n",
    "#(5, (255, 0, 0, 255))  # Urban"
   ]
  },
  {
   "cell_type": "code",
   "execution_count": null,
   "metadata": {},
   "outputs": [],
   "source": []
  }
 ],
 "metadata": {
  "kernelspec": {
   "display_name": "landFinal",
   "language": "python",
   "name": "landfinal"
  },
  "language_info": {
   "codemirror_mode": {
    "name": "ipython",
    "version": 3
   },
   "file_extension": ".py",
   "mimetype": "text/x-python",
   "name": "python",
   "nbconvert_exporter": "python",
   "pygments_lexer": "ipython3",
   "version": "3.5.2"
  }
 },
 "nbformat": 4,
 "nbformat_minor": 2
}
